{
 "cells": [
  {
   "cell_type": "markdown",
   "metadata": {},
   "source": [
    "# Leaflet cluster map of talk locations\n",
    "\n",
    "Run this from the _talks/ directory, which contains .md files of all your talks. This scrapes the location YAML field from each .md file, geolocates it with geopy/Nominatim, and uses the getorg library to output data, HTML, and Javascript for a standalone cluster map."
   ]
  },
  {
   "cell_type": "code",
   "execution_count": 1,
   "metadata": {},
   "outputs": [
    {
     "name": "stdout",
     "output_type": "stream",
     "text": [
      "Requirement already up-to-date: getorg in /anaconda2/lib/python2.7/site-packages\n",
      "Collecting pygithub (from getorg)\n",
      "  Downloading https://files.pythonhosted.org/packages/f7/48/ec5ef5239f3a4043ee7e07b454b5f3a024a5f22a4e585400ac6caa22c3c4/PyGithub-1.43.7.tar.gz (107kB)\n",
      "\u001b[K    100% |████████████████████████████████| 112kB 1.5MB/s ta 0:00:01\n",
      "\u001b[?25hRequirement already up-to-date: retrying in /anaconda2/lib/python2.7/site-packages (from getorg)\n",
      "Collecting geopy (from getorg)\n",
      "  Downloading https://files.pythonhosted.org/packages/75/3e/80bc987e1635ba9e7455b95e233b296c17f3d3bf3d4760fa67cdfc840e84/geopy-1.19.0-py2.py3-none-any.whl (100kB)\n",
      "\u001b[K    100% |████████████████████████████████| 102kB 3.2MB/s ta 0:00:01\n",
      "\u001b[?25hCollecting deprecated (from pygithub->getorg)\n",
      "  Downloading https://files.pythonhosted.org/packages/9f/7a/003fa432f1e45625626549726c2fbb7a29baa764e9d1fdb2323a5d779f8a/Deprecated-1.2.5-py2.py3-none-any.whl\n",
      "Requirement already up-to-date: pyjwt in /anaconda2/lib/python2.7/site-packages (from pygithub->getorg)\n",
      "Requirement already up-to-date: requests>=2.14.0 in /anaconda2/lib/python2.7/site-packages (from pygithub->getorg)\n",
      "Requirement already up-to-date: six>=1.7.0 in /anaconda2/lib/python2.7/site-packages (from retrying->getorg)\n",
      "Requirement already up-to-date: geographiclib<2,>=1.49 in /anaconda2/lib/python2.7/site-packages (from geopy->getorg)\n",
      "Collecting wrapt<2,>=1 (from deprecated->pygithub->getorg)\n",
      "  Downloading https://files.pythonhosted.org/packages/67/b2/0f71ca90b0ade7fad27e3d20327c996c6252a2ffe88f50a95bba7434eda9/wrapt-1.11.1.tar.gz\n",
      "Requirement already up-to-date: chardet<3.1.0,>=3.0.2 in /anaconda2/lib/python2.7/site-packages (from requests>=2.14.0->pygithub->getorg)\n",
      "Requirement already up-to-date: idna<2.9,>=2.5 in /anaconda2/lib/python2.7/site-packages (from requests>=2.14.0->pygithub->getorg)\n",
      "Collecting certifi>=2017.4.17 (from requests>=2.14.0->pygithub->getorg)\n",
      "  Downloading https://files.pythonhosted.org/packages/60/75/f692a584e85b7eaba0e03827b3d51f45f571c2e793dd731e598828d380aa/certifi-2019.3.9-py2.py3-none-any.whl (158kB)\n",
      "\u001b[K    100% |████████████████████████████████| 163kB 2.1MB/s ta 0:00:01\n",
      "\u001b[?25hCollecting urllib3<1.25,>=1.21.1 (from requests>=2.14.0->pygithub->getorg)\n",
      "  Downloading https://files.pythonhosted.org/packages/01/11/525b02e4acc0c747de8b6ccdab376331597c569c42ea66ab0a1dbd36eca2/urllib3-1.24.3-py2.py3-none-any.whl (118kB)\n",
      "\u001b[K    100% |████████████████████████████████| 122kB 3.8MB/s eta 0:00:01\n",
      "\u001b[?25hBuilding wheels for collected packages: pygithub, wrapt\n",
      "  Running setup.py bdist_wheel for pygithub ... \u001b[?25ldone\n",
      "\u001b[?25h  Stored in directory: /Users/antoine/Library/Caches/pip/wheels/41/a2/13/f40c7a91db4b3743ef1830234526054d62f8c502510f3eb18a\n",
      "  Running setup.py bdist_wheel for wrapt ... \u001b[?25ldone\n",
      "\u001b[?25h  Stored in directory: /Users/antoine/Library/Caches/pip/wheels/89/67/41/63cbf0f6ac0a6156588b9587be4db5565f8c6d8ccef98202fc\n",
      "Successfully built pygithub wrapt\n",
      "Installing collected packages: wrapt, deprecated, pygithub, geopy, certifi, urllib3\n",
      "  Found existing installation: wrapt 1.10.11\n",
      "\u001b[31m    DEPRECATION: Uninstalling a distutils installed project (wrapt) has been deprecated and will be removed in a future version. This is due to the fact that uninstalling a distutils project will only partially uninstall the project.\u001b[0m\n",
      "    Uninstalling wrapt-1.10.11:\n",
      "      Successfully uninstalled wrapt-1.10.11\n",
      "  Found existing installation: Deprecated 1.2.4\n",
      "    Uninstalling Deprecated-1.2.4:\n",
      "      Successfully uninstalled Deprecated-1.2.4\n",
      "  Found existing installation: PyGithub 1.43.4\n",
      "    Uninstalling PyGithub-1.43.4:\n",
      "      Successfully uninstalled PyGithub-1.43.4\n",
      "  Found existing installation: geopy 1.18.1\n",
      "    Uninstalling geopy-1.18.1:\n",
      "      Successfully uninstalled geopy-1.18.1\n",
      "  Found existing installation: certifi 2018.11.29\n",
      "    Uninstalling certifi-2018.11.29:\n",
      "      Successfully uninstalled certifi-2018.11.29\n",
      "  Found existing installation: urllib3 1.24.1\n",
      "    Uninstalling urllib3-1.24.1:\n",
      "      Successfully uninstalled urllib3-1.24.1\n",
      "Successfully installed certifi-2019.3.9 deprecated-1.2.5 geopy-1.19.0 pygithub-1.43.7 urllib3-1.24.3 wrapt-1.11.1\n",
      "\u001b[33mYou are using pip version 9.0.1, however version 19.1.1 is available.\n",
      "You should consider upgrading via the 'pip install --upgrade pip' command.\u001b[0m\n",
      "IPywidgets and ipyleaflet support enabled.\n"
     ]
    }
   ],
   "source": [
    "!pip install getorg --upgrade\n",
    "import glob\n",
    "import getorg\n",
    "from geopy import Nominatim"
   ]
  },
  {
   "cell_type": "code",
   "execution_count": 2,
   "metadata": {},
   "outputs": [],
   "source": [
    "g = glob.glob(\"*.md\")"
   ]
  },
  {
   "cell_type": "code",
   "execution_count": 3,
   "metadata": {},
   "outputs": [
    {
     "name": "stderr",
     "output_type": "stream",
     "text": [
      "/anaconda2/lib/python2.7/site-packages/ipykernel_launcher.py:1: DeprecationWarning: Using Nominatim with the default \"geopy/1.19.0\" `user_agent` is strongly discouraged, as it violates Nominatim's ToS https://operations.osmfoundation.org/policies/nominatim/ and may possibly cause 403 and 429 HTTP errors. Please specify a custom `user_agent` with `Nominatim(user_agent=\"my-application\")` or by overriding the default `user_agent`: `geopy.geocoders.options.default_user_agent = \"my-application\"`. In geopy 2.0 this will become an exception.\n",
      "  \"\"\"Entry point for launching an IPython kernel.\n"
     ]
    }
   ],
   "source": [
    "geocoder = Nominatim()\n",
    "location_dict = {}\n",
    "location = \"\"\n",
    "permalink = \"\"\n",
    "title = \"\""
   ]
  },
  {
   "cell_type": "code",
   "execution_count": 4,
   "metadata": {},
   "outputs": [
    {
     "name": "stdout",
     "output_type": "stream",
     "text": [
      "('San Diego, United States', '\\n', Location((32.7174209, -117.1627714, 0.0)))\n",
      "('Vienna, Austria', '\\n', Location((48.2083537, 16.3725042, 0.0)))\n",
      "('Lisbon, Portugal', '\\n', Location((38.7077507, -9.1365919, 0.0)))\n",
      "('Ullensvang, Norway', '\\n', Location((60.3243218, 6.6595734, 0.0)))\n",
      "('Mezzocorona, Italy', '\\n', Location((46.2154357, 11.1207858, 0.0)))\n",
      "('Berder, France', '\\n', Location((47.57883085, -2.88806493191, 0.0)))\n",
      "('Edinburgh, Great-Britain', '\\n', Location((55.953346, -3.1883739, 0.0)))\n",
      "('Aiguablava, Spain', '\\n', Location((41.4512425, 2.1856156, 0.0)))\n",
      "('Plasencia, Spain', '\\n', Location((40.0302938, -6.0902595, 0.0)))\n",
      "('Bologna, Italy', '\\n', Location((44.4936714, 11.3430347, 0.0)))\n",
      "('San Diego, USA', '\\n', Location((32.7174209, -117.1627714, 0.0)))\n",
      "('Evry, France', '\\n', Location((48.62960985, 2.44359589711, 0.0)))\n",
      "('Naoussa, Greece', '\\n', Location((40.6306023, 22.0695972, 0.0)))\n",
      "('Clermont-Ferrand, France', '\\n', Location((45.7774551, 3.0819427, 0.0)))\n",
      "('Clermont-Ferrand, France', '\\n', Location((45.7774551, 3.0819427, 0.0)))\n",
      "('Ullensvang, Norway', '\\n', Location((60.3243218, 6.6595734, 0.0)))\n",
      "('Palermo, Italy', '\\n', Location((38.1112268, 13.3524434, 0.0)))\n",
      "('Melbourne, Australia', '\\n', Location((-37.8142176, 144.9631608, 0.0)))\n",
      "('Angers, France', '\\n', Location((47.4739884, -0.5515588, 0.0)))\n",
      "('Montpellier, France', '\\n', Location((43.6112422, 3.8767337, 0.0)))\n"
     ]
    }
   ],
   "source": [
    "\n",
    "for file in g:\n",
    "    with open(file, 'r') as f:\n",
    "        lines = f.read()\n",
    "        if lines.find('location: \"') > 1:\n",
    "            loc_start = lines.find('location: \"') + 11\n",
    "            lines_trim = lines[loc_start:]\n",
    "            loc_end = lines_trim.find('\"')\n",
    "            location = lines_trim[:loc_end]\n",
    "                            \n",
    "           \n",
    "        location_dict[location] = geocoder.geocode(location)\n",
    "        print(location, \"\\n\", location_dict[location])\n"
   ]
  },
  {
   "cell_type": "code",
   "execution_count": 5,
   "metadata": {},
   "outputs": [
    {
     "data": {
      "text/plain": [
       "'Written map to ../talkmap/'"
      ]
     },
     "execution_count": 5,
     "metadata": {},
     "output_type": "execute_result"
    }
   ],
   "source": [
    "m = getorg.orgmap.create_map_obj()\n",
    "getorg.orgmap.output_html_cluster_map(location_dict, folder_name=\"../talkmap\", hashed_usernames=False)"
   ]
  },
  {
   "cell_type": "code",
   "execution_count": null,
   "metadata": {},
   "outputs": [],
   "source": []
  },
  {
   "cell_type": "code",
   "execution_count": null,
   "metadata": {},
   "outputs": [],
   "source": []
  },
  {
   "cell_type": "code",
   "execution_count": null,
   "metadata": {},
   "outputs": [],
   "source": []
  },
  {
   "cell_type": "code",
   "execution_count": null,
   "metadata": {},
   "outputs": [],
   "source": []
  }
 ],
 "metadata": {
  "anaconda-cloud": {},
  "kernelspec": {
   "display_name": "Python 2",
   "language": "python",
   "name": "python2"
  },
  "language_info": {
   "codemirror_mode": {
    "name": "ipython",
    "version": 2
   },
   "file_extension": ".py",
   "mimetype": "text/x-python",
   "name": "python",
   "nbconvert_exporter": "python",
   "pygments_lexer": "ipython2",
   "version": "2.7.14"
  }
 },
 "nbformat": 4,
 "nbformat_minor": 1
}
