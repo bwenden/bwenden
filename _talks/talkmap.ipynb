{
 "cells": [
  {
   "cell_type": "markdown",
   "metadata": {},
   "source": [
    "# Leaflet cluster map of talk locations\n",
    "\n",
    "Run this from the _talks/ directory, which contains .md files of all your talks. This scrapes the location YAML field from each .md file, geolocates it with geopy/Nominatim, and uses the getorg library to output data, HTML, and Javascript for a standalone cluster map."
   ]
  },
  {
   "cell_type": "code",
   "execution_count": 6,
   "metadata": {},
   "outputs": [
    {
     "name": "stdout",
     "output_type": "stream",
     "text": [
      "Requirement already up-to-date: getorg in /anaconda2/lib/python2.7/site-packages\n",
      "Requirement already up-to-date: pygithub in /anaconda2/lib/python2.7/site-packages (from getorg)\n",
      "Requirement already up-to-date: retrying in /anaconda2/lib/python2.7/site-packages (from getorg)\n",
      "Requirement already up-to-date: geopy in /anaconda2/lib/python2.7/site-packages (from getorg)\n",
      "Requirement already up-to-date: requests>=2.14.0 in /anaconda2/lib/python2.7/site-packages (from pygithub->getorg)\n",
      "Requirement already up-to-date: pyjwt in /anaconda2/lib/python2.7/site-packages (from pygithub->getorg)\n",
      "Requirement already up-to-date: Deprecated in /anaconda2/lib/python2.7/site-packages (from pygithub->getorg)\n",
      "Requirement already up-to-date: six>=1.7.0 in /anaconda2/lib/python2.7/site-packages (from retrying->getorg)\n",
      "Requirement already up-to-date: geographiclib<2,>=1.49 in /anaconda2/lib/python2.7/site-packages (from geopy->getorg)\n",
      "Requirement already up-to-date: chardet<3.1.0,>=3.0.2 in /anaconda2/lib/python2.7/site-packages (from requests>=2.14.0->pygithub->getorg)\n",
      "Requirement already up-to-date: idna<2.9,>=2.5 in /anaconda2/lib/python2.7/site-packages (from requests>=2.14.0->pygithub->getorg)\n",
      "Requirement already up-to-date: certifi>=2017.4.17 in /anaconda2/lib/python2.7/site-packages (from requests>=2.14.0->pygithub->getorg)\n",
      "Requirement already up-to-date: urllib3<1.25,>=1.21.1 in /anaconda2/lib/python2.7/site-packages (from requests>=2.14.0->pygithub->getorg)\n",
      "Requirement already up-to-date: wrapt<2,>=1 in /anaconda2/lib/python2.7/site-packages (from Deprecated->pygithub->getorg)\n",
      "\u001b[33mYou are using pip version 9.0.1, however version 18.1 is available.\n",
      "You should consider upgrading via the 'pip install --upgrade pip' command.\u001b[0m\n"
     ]
    }
   ],
   "source": [
    "!pip install getorg --upgrade\n",
    "import glob\n",
    "import getorg\n",
    "from geopy import Nominatim"
   ]
  },
  {
   "cell_type": "code",
   "execution_count": 7,
   "metadata": {},
   "outputs": [],
   "source": [
    "g = glob.glob(\"*.md\")"
   ]
  },
  {
   "cell_type": "code",
   "execution_count": 8,
   "metadata": {},
   "outputs": [
    {
     "name": "stderr",
     "output_type": "stream",
     "text": [
      "/anaconda2/lib/python2.7/site-packages/ipykernel_launcher.py:1: DeprecationWarning: Using Nominatim with the default \"geopy/1.18.1\" `user_agent` is strongly discouraged, as it violates Nominatim's ToS https://operations.osmfoundation.org/policies/nominatim/ and may possibly cause 403 and 429 HTTP errors. Please specify a custom `user_agent` with `Nominatim(user_agent=\"my-application\")` or by overriding the default `user_agent`: `geopy.geocoders.options.default_user_agent = \"my-application\"`. In geopy 2.0 this will become an exception.\n",
      "  \"\"\"Entry point for launching an IPython kernel.\n"
     ]
    }
   ],
   "source": [
    "geocoder = Nominatim()\n",
    "location_dict = {}\n",
    "location = \"\"\n",
    "permalink = \"\"\n",
    "title = \"\""
   ]
  },
  {
   "cell_type": "code",
   "execution_count": 9,
   "metadata": {},
   "outputs": [
    {
     "name": "stdout",
     "output_type": "stream",
     "text": [
      "('San Diego, United States', '\\n', Location((32.7174209, -117.1627714, 0.0)))\n",
      "('Lisbon, Portugal', '\\n', Location((38.7077507, -9.1365919, 0.0)))\n",
      "('Ullensvang, Norway', '\\n', Location((60.3243218, 6.6595734, 0.0)))\n",
      "('Mezzocorona, Italy', '\\n', Location((46.2154357, 11.1207858, 0.0)))\n",
      "('Berder, France', '\\n', Location((47.57883085, -2.88806493191, 0.0)))\n",
      "('Edinburgh, Great-Britain', '\\n', Location((55.953346, -3.1883739, 0.0)))\n",
      "('Aiguablava, Spain', '\\n', Location((41.934412, 3.2165735, 0.0)))\n",
      "('Plasencia, Spain', '\\n', Location((40.0302938, -6.0902595, 0.0)))\n",
      "('Bologna, Italy', '\\n', Location((44.4936714, 11.3430347, 0.0)))\n",
      "('San Diego, USA', '\\n', Location((32.7174209, -117.1627714, 0.0)))\n",
      "('Evry, France', '\\n', Location((48.6241665, 2.4289667, 0.0)))\n",
      "('Naoussa, Greece', '\\n', Location((37.1235202, 25.238741, 0.0)))\n",
      "('Clermont-Ferrand, France', '\\n', Location((45.7774551, 3.0819427, 0.0)))\n",
      "('Clermont-Ferrand, France', '\\n', Location((45.7774551, 3.0819427, 0.0)))\n",
      "('Ullensvang, Norway', '\\n', Location((60.3243218, 6.6595734, 0.0)))\n",
      "('Palermo, Italy', '\\n', Location((38.1112268, 13.3524434, 0.0)))\n",
      "('Melbourne, Australia', '\\n', Location((-37.8142176, 144.9631608, 0.0)))\n",
      "('Angers, France', '\\n', Location((47.4739884, -0.5515588, 0.0)))\n",
      "('Montpellier, France', '\\n', Location((43.6112422, 3.8767337, 0.0)))\n"
     ]
    }
   ],
   "source": [
    "\n",
    "for file in g:\n",
    "    with open(file, 'r') as f:\n",
    "        lines = f.read()\n",
    "        if lines.find('location: \"') > 1:\n",
    "            loc_start = lines.find('location: \"') + 11\n",
    "            lines_trim = lines[loc_start:]\n",
    "            loc_end = lines_trim.find('\"')\n",
    "            location = lines_trim[:loc_end]\n",
    "                            \n",
    "           \n",
    "        location_dict[location] = geocoder.geocode(location)\n",
    "        print(location, \"\\n\", location_dict[location])\n"
   ]
  },
  {
   "cell_type": "code",
   "execution_count": 10,
   "metadata": {},
   "outputs": [
    {
     "data": {
      "text/plain": [
       "'Written map to ../talkmap/'"
      ]
     },
     "execution_count": 10,
     "metadata": {},
     "output_type": "execute_result"
    }
   ],
   "source": [
    "m = getorg.orgmap.create_map_obj()\n",
    "getorg.orgmap.output_html_cluster_map(location_dict, folder_name=\"../talkmap\", hashed_usernames=False)"
   ]
  },
  {
   "cell_type": "code",
   "execution_count": null,
   "metadata": {},
   "outputs": [],
   "source": []
  },
  {
   "cell_type": "code",
   "execution_count": null,
   "metadata": {},
   "outputs": [],
   "source": []
  }
 ],
 "metadata": {
  "anaconda-cloud": {},
  "kernelspec": {
   "display_name": "Python 2",
   "language": "python",
   "name": "python2"
  },
  "language_info": {
   "codemirror_mode": {
    "name": "ipython",
    "version": 2
   },
   "file_extension": ".py",
   "mimetype": "text/x-python",
   "name": "python",
   "nbconvert_exporter": "python",
   "pygments_lexer": "ipython2",
   "version": "2.7.14"
  }
 },
 "nbformat": 4,
 "nbformat_minor": 1
}
