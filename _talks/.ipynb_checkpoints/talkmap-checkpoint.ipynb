{
 "cells": [
  {
   "cell_type": "markdown",
   "metadata": {},
   "source": [
    "# Leaflet cluster map of talk locations\n",
    "\n",
    "Run this from the _talks/ directory, which contains .md files of all your talks. This scrapes the location YAML field from each .md file, geolocates it with geopy/Nominatim, and uses the getorg library to output data, HTML, and Javascript for a standalone cluster map."
   ]
  },
  {
   "cell_type": "code",
   "execution_count": 1,
   "metadata": {},
   "outputs": [
    {
     "name": "stdout",
     "output_type": "stream",
     "text": [
      "Requirement already up-to-date: getorg in /anaconda2/lib/python2.7/site-packages\n",
      "Collecting pygithub (from getorg)\n",
      "  Downloading https://files.pythonhosted.org/packages/08/ba/8b3563677fe7509f4b211b2f75d24d913f02c780a9c0936e2eceacc6e633/PyGithub-1.43.4.tar.gz (2.9MB)\n",
      "\u001b[K    100% |████████████████████████████████| 2.9MB 412kB/s eta 0:00:01\n",
      "\u001b[?25hRequirement already up-to-date: retrying in /anaconda2/lib/python2.7/site-packages (from getorg)\n",
      "Collecting geopy (from getorg)\n",
      "  Downloading https://files.pythonhosted.org/packages/a8/5c/ca78a17b2c6fe1179e9221c9280bb5d8caaf048a631ed72caed40c52de24/geopy-1.18.1-py2.py3-none-any.whl (98kB)\n",
      "\u001b[K    100% |████████████████████████████████| 102kB 7.0MB/s ta 0:00:01\n",
      "\u001b[?25hCollecting requests>=2.14.0 (from pygithub->getorg)\n",
      "  Downloading https://files.pythonhosted.org/packages/7d/e3/20f3d364d6c8e5d2353c72a67778eb189176f08e873c9900e10c0287b84b/requests-2.21.0-py2.py3-none-any.whl (57kB)\n",
      "\u001b[K    100% |████████████████████████████████| 61kB 6.9MB/s eta 0:00:01\n",
      "\u001b[?25hCollecting pyjwt (from pygithub->getorg)\n",
      "  Downloading https://files.pythonhosted.org/packages/87/8b/6a9f14b5f781697e51259d81657e6048fd31a113229cf346880bb7545565/PyJWT-1.7.1-py2.py3-none-any.whl\n",
      "Collecting Deprecated (from pygithub->getorg)\n",
      "  Downloading https://files.pythonhosted.org/packages/a9/cb/c1a39ee51e3042df8b284e22c9c440ffad1c25f451bddd4bf9a8dc17cd75/Deprecated-1.2.4-py2.py3-none-any.whl\n",
      "Collecting six>=1.7.0 (from retrying->getorg)\n",
      "  Downloading https://files.pythonhosted.org/packages/73/fb/00a976f728d0d1fecfe898238ce23f502a721c0ac0ecfedb80e0d88c64e9/six-1.12.0-py2.py3-none-any.whl\n",
      "Collecting geographiclib<2,>=1.49 (from geopy->getorg)\n",
      "  Downloading https://files.pythonhosted.org/packages/5b/ac/4f348828091490d77899bc74e92238e2b55c59392f21948f296e94e50e2b/geographiclib-1.49.tar.gz\n",
      "Requirement already up-to-date: chardet<3.1.0,>=3.0.2 in /anaconda2/lib/python2.7/site-packages (from requests>=2.14.0->pygithub->getorg)\n",
      "Collecting idna<2.9,>=2.5 (from requests>=2.14.0->pygithub->getorg)\n",
      "  Downloading https://files.pythonhosted.org/packages/14/2c/cd551d81dbe15200be1cf41cd03869a46fe7226e7450af7a6545bfc474c9/idna-2.8-py2.py3-none-any.whl (58kB)\n",
      "\u001b[K    100% |████████████████████████████████| 61kB 3.7MB/s ta 0:00:011\n",
      "\u001b[?25hCollecting certifi>=2017.4.17 (from requests>=2.14.0->pygithub->getorg)\n",
      "  Downloading https://files.pythonhosted.org/packages/9f/e0/accfc1b56b57e9750eba272e24c4dddeac86852c2bebd1236674d7887e8a/certifi-2018.11.29-py2.py3-none-any.whl (154kB)\n",
      "\u001b[K    100% |████████████████████████████████| 163kB 5.4MB/s eta 0:00:01\n",
      "\u001b[?25hCollecting urllib3<1.25,>=1.21.1 (from requests>=2.14.0->pygithub->getorg)\n",
      "  Downloading https://files.pythonhosted.org/packages/62/00/ee1d7de624db8ba7090d1226aebefab96a2c71cd5cfa7629d6ad3f61b79e/urllib3-1.24.1-py2.py3-none-any.whl (118kB)\n",
      "\u001b[K    100% |████████████████████████████████| 122kB 6.3MB/s eta 0:00:01\n",
      "\u001b[?25hRequirement already up-to-date: wrapt<2,>=1 in /anaconda2/lib/python2.7/site-packages (from Deprecated->pygithub->getorg)\n",
      "Building wheels for collected packages: pygithub, geographiclib\n",
      "  Running setup.py bdist_wheel for pygithub ... \u001b[?25ldone\n",
      "\u001b[?25h  Stored in directory: /Users/antoine/Library/Caches/pip/wheels/26/bc/43/1be6fc4a597bbc2a12b3dac6ec54180ad9a3133d59ba1f45b5\n",
      "  Running setup.py bdist_wheel for geographiclib ... \u001b[?25ldone\n",
      "\u001b[?25h  Stored in directory: /Users/antoine/Library/Caches/pip/wheels/99/45/d1/14954797e2a976083182c2e7da9b4e924509e59b6e5c661061\n",
      "Successfully built pygithub geographiclib\n",
      "Installing collected packages: idna, certifi, urllib3, requests, pyjwt, Deprecated, pygithub, geographiclib, geopy, six\n",
      "  Found existing installation: idna 2.6\n",
      "    Uninstalling idna-2.6:\n",
      "      Successfully uninstalled idna-2.6\n",
      "  Found existing installation: certifi 2018.1.18\n",
      "\u001b[31m    DEPRECATION: Uninstalling a distutils installed project (certifi) has been deprecated and will be removed in a future version. This is due to the fact that uninstalling a distutils project will only partially uninstall the project.\u001b[0m\n",
      "    Uninstalling certifi-2018.1.18:\n",
      "      Successfully uninstalled certifi-2018.1.18\n",
      "  Found existing installation: urllib3 1.22\n",
      "    Uninstalling urllib3-1.22:\n",
      "      Successfully uninstalled urllib3-1.22\n",
      "  Found existing installation: requests 2.18.4\n",
      "    Uninstalling requests-2.18.4:\n",
      "      Successfully uninstalled requests-2.18.4\n",
      "  Found existing installation: PyJWT 1.6.1\n",
      "    Uninstalling PyJWT-1.6.1:\n",
      "      Successfully uninstalled PyJWT-1.6.1\n",
      "  Found existing installation: PyGithub 1.38\n",
      "    Uninstalling PyGithub-1.38:\n",
      "      Successfully uninstalled PyGithub-1.38\n",
      "  Found existing installation: geopy 1.12.0\n",
      "    Uninstalling geopy-1.12.0:\n",
      "      Successfully uninstalled geopy-1.12.0\n",
      "  Found existing installation: six 1.11.0\n",
      "    Uninstalling six-1.11.0:\n",
      "      Successfully uninstalled six-1.11.0\n",
      "Successfully installed Deprecated-1.2.4 certifi-2018.11.29 geographiclib-1.49 geopy-1.18.1 idna-2.8 pygithub-1.43.4 pyjwt-1.7.1 requests-2.21.0 six-1.12.0 urllib3-1.24.1\n",
      "\u001b[33mYou are using pip version 9.0.1, however version 18.1 is available.\n",
      "You should consider upgrading via the 'pip install --upgrade pip' command.\u001b[0m\n",
      "IPywidgets and ipyleaflet support enabled.\n"
     ]
    }
   ],
   "source": [
    "!pip install getorg --upgrade\n",
    "import glob\n",
    "import getorg\n",
    "from geopy import Nominatim"
   ]
  },
  {
   "cell_type": "code",
   "execution_count": 2,
   "metadata": {},
   "outputs": [],
   "source": [
    "g = glob.glob(\"*.md\")"
   ]
  },
  {
   "cell_type": "code",
   "execution_count": 3,
   "metadata": {},
   "outputs": [
    {
     "name": "stderr",
     "output_type": "stream",
     "text": [
      "/anaconda2/lib/python2.7/site-packages/ipykernel_launcher.py:1: DeprecationWarning: Using Nominatim with the default \"geopy/1.18.1\" `user_agent` is strongly discouraged, as it violates Nominatim's ToS https://operations.osmfoundation.org/policies/nominatim/ and may possibly cause 403 and 429 HTTP errors. Please specify a custom `user_agent` with `Nominatim(user_agent=\"my-application\")` or by overriding the default `user_agent`: `geopy.geocoders.options.default_user_agent = \"my-application\"`. In geopy 2.0 this will become an exception.\n",
      "  \"\"\"Entry point for launching an IPython kernel.\n"
     ]
    }
   ],
   "source": [
    "geocoder = Nominatim()\n",
    "location_dict = {}\n",
    "location = \"\"\n",
    "permalink = \"\"\n",
    "title = \"\""
   ]
  },
  {
   "cell_type": "code",
   "execution_count": 4,
   "metadata": {},
   "outputs": [
    {
     "name": "stdout",
     "output_type": "stream",
     "text": [
      "('San Diego, United States', '\\n', Location((32.7174209, -117.1627714, 0.0)))\n",
      "('Lisbon, Portugal', '\\n', Location((38.7077507, -9.1365919, 0.0)))\n",
      "('Ullensvang, Norway', '\\n', Location((60.3243218, 6.6595734, 0.0)))\n",
      "('Mezzocorona, Italy', '\\n', Location((46.2154357, 11.1207858, 0.0)))\n",
      "('Berder, France', '\\n', Location((47.57883085, -2.88806493191, 0.0)))\n",
      "('Edinburgh, Great-Britain', '\\n', Location((55.953346, -3.1883739, 0.0)))\n",
      "('Aiguablava, Spain', '\\n', Location((41.934412, 3.2165735, 0.0)))\n",
      "('Plasencia, Spain', '\\n', Location((40.0302938, -6.0902595, 0.0)))\n",
      "('Bologna, Italy', '\\n', Location((44.4936714, 11.3430347, 0.0)))\n",
      "('San Diego, USA', '\\n', Location((32.7174209, -117.1627714, 0.0)))\n",
      "('Evry, France', '\\n', Location((48.6241665, 2.4289667, 0.0)))\n",
      "('Naoussa, Greece', '\\n', Location((37.1235202, 25.238741, 0.0)))\n",
      "('Clermont-Ferrand, France', '\\n', Location((45.7774551, 3.0819427, 0.0)))\n",
      "('Clermont-Ferrand, France', '\\n', Location((45.7774551, 3.0819427, 0.0)))\n",
      "('Ullensvang, Norway', '\\n', Location((60.3243218, 6.6595734, 0.0)))\n",
      "('Palermo, Italy', '\\n', Location((38.1112268, 13.3524434, 0.0)))\n",
      "('Angers, France', '\\n', Location((47.4739884, -0.5515588, 0.0)))\n",
      "('Montpellier, France', '\\n', Location((43.6112422, 3.8767337, 0.0)))\n"
     ]
    }
   ],
   "source": [
    "\n",
    "for file in g:\n",
    "    with open(file, 'r') as f:\n",
    "        lines = f.read()\n",
    "        if lines.find('location: \"') > 1:\n",
    "            loc_start = lines.find('location: \"') + 11\n",
    "            lines_trim = lines[loc_start:]\n",
    "            loc_end = lines_trim.find('\"')\n",
    "            location = lines_trim[:loc_end]\n",
    "                            \n",
    "           \n",
    "        location_dict[location] = geocoder.geocode(location)\n",
    "        print(location, \"\\n\", location_dict[location])\n"
   ]
  },
  {
   "cell_type": "code",
   "execution_count": 5,
   "metadata": {},
   "outputs": [
    {
     "data": {
      "text/plain": [
       "'Written map to ../talkmap/'"
      ]
     },
     "execution_count": 5,
     "metadata": {},
     "output_type": "execute_result"
    }
   ],
   "source": [
    "m = getorg.orgmap.create_map_obj()\n",
    "getorg.orgmap.output_html_cluster_map(location_dict, folder_name=\"../talkmap\", hashed_usernames=False)"
   ]
  },
  {
   "cell_type": "code",
   "execution_count": null,
   "metadata": {},
   "outputs": [],
   "source": []
  },
  {
   "cell_type": "code",
   "execution_count": null,
   "metadata": {},
   "outputs": [],
   "source": []
  }
 ],
 "metadata": {
  "anaconda-cloud": {},
  "kernelspec": {
   "display_name": "Python 2",
   "language": "python",
   "name": "python2"
  },
  "language_info": {
   "codemirror_mode": {
    "name": "ipython",
    "version": 2
   },
   "file_extension": ".py",
   "mimetype": "text/x-python",
   "name": "python",
   "nbconvert_exporter": "python",
   "pygments_lexer": "ipython2",
   "version": "2.7.14"
  }
 },
 "nbformat": 4,
 "nbformat_minor": 1
}
